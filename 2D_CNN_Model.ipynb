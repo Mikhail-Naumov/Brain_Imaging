{
 "cells": [
  {
   "cell_type": "markdown",
   "metadata": {},
   "source": [
    "### 2D CNN Model"
   ]
  },
  {
   "cell_type": "code",
   "execution_count": 14,
   "metadata": {},
   "outputs": [],
   "source": [
    "import pandas as pd\n",
    "import numpy as np\n",
    "\n",
    "import keras\n",
    "from keras.models import Model, Sequential\n",
    "from keras.utils import np_utils\n",
    "from keras.layers import Dense, Dropout, Activation, Flatten\n",
    "from keras.layers import Convolution2D, MaxPooling2D\n",
    "from keras.callbacks import EarlyStopping\n",
    "\n",
    "import matplotlib.pyplot as plt\n",
    "\n",
    "from sklearn.model_selection import train_test_split\n",
    "from sklearn.preprocessing import MinMaxScaler"
   ]
  },
  {
   "cell_type": "code",
   "execution_count": 16,
   "metadata": {},
   "outputs": [],
   "source": [
    "def Data_Prep():\n",
    "    data = pd.read_csv('./2D_120.csv')\n",
    "\n",
    "    target = data.AGE.copy(deep=True)\n",
    "    data = data.drop(['Unnamed: 0','AGE'],axis=1)\n",
    "\n",
    "    X_train, X_test, y_train, y_test = train_test_split(\n",
    "    data,target,test_size=0.2,random_state=42)\n",
    "\n",
    "    mm = MinMaxScaler()\n",
    "    X_train = mm.fit_transform(X_train)\n",
    "    X_test  = mm.transform(X_test)\n",
    "\n",
    "    X_train = X_train.reshape(X_train.shape[0], 256, 150, 1)\n",
    "    X_test  = X_test.reshape(X_test.shape[0], 256, 150, 1)\n",
    "    return X_train, X_test, y_train, y_test"
   ]
  },
  {
   "cell_type": "code",
   "execution_count": 17,
   "metadata": {},
   "outputs": [],
   "source": [
    "X_train, X_test, y_train, y_test = Data_Prep()"
   ]
  },
  {
   "cell_type": "code",
   "execution_count": 18,
   "metadata": {},
   "outputs": [
    {
     "data": {
      "text/plain": [
       "(104, 256, 150, 1)"
      ]
     },
     "execution_count": 18,
     "metadata": {},
     "output_type": "execute_result"
    }
   ],
   "source": [
    "X_test.shape"
   ]
  },
  {
   "cell_type": "code",
   "execution_count": 19,
   "metadata": {},
   "outputs": [
    {
     "data": {
      "text/plain": [
       "(412, 256, 150, 1)"
      ]
     },
     "execution_count": 19,
     "metadata": {},
     "output_type": "execute_result"
    }
   ],
   "source": [
    "X_train.shape"
   ]
  },
  {
   "cell_type": "code",
   "execution_count": 20,
   "metadata": {},
   "outputs": [],
   "source": [
    "model = Sequential()\n",
    "\n",
    "model.add(Convolution2D(filters = 15,           \n",
    "                        kernel_size = (5,5),    \n",
    "                        activation='relu', \n",
    "                        input_shape=X_train.shape[1:]))\n",
    "\n",
    "model.add(MaxPooling2D())     \n",
    "\n",
    "model.add(Convolution2D(filters =30,        \n",
    "                        kernel_size = (4,4),   \n",
    "                        activation='relu'))\n",
    "\n",
    "model.add(MaxPooling2D())\n",
    "\n",
    "model.add(Dropout(0.25)) \n",
    "\n",
    "model.add(Flatten())\n",
    "\n",
    "model.add(Dense(512, activation='relu'))     \n",
    "\n",
    "model.add(Dense(1, activation='relu'))\n",
    "\n",
    "model.compile(loss='mse',\n",
    "              optimizer='adam')\n",
    "\n",
    "early_stop = EarlyStopping(monitor='val_loss', min_delta=0.01, patience=10, mode='auto')"
   ]
  },
  {
   "cell_type": "code",
   "execution_count": 22,
   "metadata": {},
   "outputs": [
    {
     "name": "stdout",
     "output_type": "stream",
     "text": [
      "Train on 412 samples, validate on 104 samples\n",
      "Epoch 1/6\n",
      "412/412 [==============================] - 103s 249ms/step - loss: 51.8994 - val_loss: 134.1310\n",
      "Epoch 2/6\n",
      "412/412 [==============================] - 160s 389ms/step - loss: 43.4347 - val_loss: 131.8578\n",
      "Epoch 3/6\n",
      "412/412 [==============================] - 84s 203ms/step - loss: 42.2161 - val_loss: 146.6297\n",
      "Epoch 4/6\n",
      "412/412 [==============================] - 66s 160ms/step - loss: 38.4885 - val_loss: 140.7728\n",
      "Epoch 5/6\n",
      "412/412 [==============================] - 63s 152ms/step - loss: 33.7983 - val_loss: 131.5791\n",
      "Epoch 6/6\n",
      "412/412 [==============================] - 66s 159ms/step - loss: 35.2768 - val_loss: 129.8411\n"
     ]
    },
    {
     "data": {
      "text/plain": [
       "<keras.callbacks.History at 0x1a22c2bfd0>"
      ]
     },
     "execution_count": 22,
     "metadata": {},
     "output_type": "execute_result"
    }
   ],
   "source": [
    "model.fit(X_train, y_train, \n",
    "          batch_size=128,\n",
    "          epochs=6, \n",
    "          callbacks=[early_stop], \n",
    "          validation_data =(X_test, y_test),\n",
    "          verbose=1)"
   ]
  }
 ],
 "metadata": {
  "kernelspec": {
   "display_name": "Python [conda env:NN]",
   "language": "python",
   "name": "conda-env-NN-py"
  },
  "language_info": {
   "codemirror_mode": {
    "name": "ipython",
    "version": 3
   },
   "file_extension": ".py",
   "mimetype": "text/x-python",
   "name": "python",
   "nbconvert_exporter": "python",
   "pygments_lexer": "ipython3",
   "version": "3.6.4"
  }
 },
 "nbformat": 4,
 "nbformat_minor": 2
}
