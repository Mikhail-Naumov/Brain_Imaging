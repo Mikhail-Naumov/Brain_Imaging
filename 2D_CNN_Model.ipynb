{
 "cells": [
  {
   "cell_type": "markdown",
   "metadata": {},
   "source": [
    "### 2D CNN Model"
   ]
  },
  {
   "cell_type": "code",
   "execution_count": 14,
   "metadata": {},
   "outputs": [],
   "source": [
    "import pandas as pd\n",
    "import numpy as np\n",
    "\n",
    "import keras\n",
    "from keras.models import Model, Sequential\n",
    "from keras.utils import np_utils\n",
    "from keras.layers import Dense, Dropout, Activation, Flatten\n",
    "from keras.layers import Convolution2D, MaxPooling2D\n",
    "from keras.callbacks import EarlyStopping\n",
    "\n",
    "import seaborn as sns\n",
    "import matplotlib.pyplot as plt\n",
    "\n",
    "from sklearn.model_selection import train_test_split\n",
    "from sklearn.preprocessing import MinMaxScaler"
   ]
  },
  {
   "cell_type": "code",
   "execution_count": 15,
   "metadata": {},
   "outputs": [],
   "source": [
    "def Data_Prep():\n",
    "    data = pd.read_csv('./2D_120.csv')\n",
    "\n",
    "    target = data.AGE.copy(deep=True)\n",
    "    data = data.drop(['Unnamed: 0','AGE'],axis=1)\n",
    "\n",
    "    X_train, X_test, y_train, y_test = train_test_split(\n",
    "    data,target,test_size=0.2,random_state=42)\n",
    "\n",
    "    mm = MinMaxScaler()\n",
    "    X_train = mm.fit_transform(X_train)\n",
    "    X_test  = mm.transform(X_test)\n",
    "\n",
    "    X_train = X_train.reshape(X_train.shape[0], 256, 150, 1)\n",
    "    X_test  = X_test.reshape(X_test.shape[0], 256, 150, 1)\n",
    "    return X_train, X_test, y_train, y_test"
   ]
  },
  {
   "cell_type": "code",
   "execution_count": 16,
   "metadata": {},
   "outputs": [],
   "source": [
    "X_train, X_test, y_train, y_test = Data_Prep()"
   ]
  },
  {
   "cell_type": "code",
   "execution_count": 17,
   "metadata": {},
   "outputs": [
    {
     "data": {
      "text/plain": [
       "(104, 256, 150, 1)"
      ]
     },
     "execution_count": 17,
     "metadata": {},
     "output_type": "execute_result"
    }
   ],
   "source": [
    "X_test.shape"
   ]
  },
  {
   "cell_type": "code",
   "execution_count": 18,
   "metadata": {},
   "outputs": [
    {
     "data": {
      "text/plain": [
       "(412, 256, 150, 1)"
      ]
     },
     "execution_count": 18,
     "metadata": {},
     "output_type": "execute_result"
    }
   ],
   "source": [
    "X_train.shape"
   ]
  },
  {
   "cell_type": "code",
   "execution_count": 19,
   "metadata": {},
   "outputs": [],
   "source": [
    "model = Sequential()\n",
    "\n",
    "model.add(Convolution2D(filters = 15,           \n",
    "                        kernel_size = (5,5),    \n",
    "                        activation='relu', \n",
    "                        input_shape=X_train.shape[1:]))\n",
    "\n",
    "model.add(MaxPooling2D())     \n",
    "\n",
    "model.add(Convolution2D(filters =30,        \n",
    "                        kernel_size = (4,4),   \n",
    "                        activation='relu'))\n",
    "\n",
    "model.add(MaxPooling2D())\n",
    "\n",
    "model.add(Dropout(0.25)) \n",
    "\n",
    "model.add(Flatten())\n",
    "\n",
    "model.add(Dense(512, activation='relu'))     \n",
    "\n",
    "model.add(Dense(1, activation='relu'))\n",
    "\n",
    "model.compile(loss='mse',\n",
    "              optimizer='adam')\n",
    "\n",
    "early_stop = EarlyStopping(monitor='val_loss', min_delta=0, patience=2, mode='auto')"
   ]
  },
  {
   "cell_type": "code",
   "execution_count": 20,
   "metadata": {
    "scrolled": false
   },
   "outputs": [
    {
     "name": "stdout",
     "output_type": "stream",
     "text": [
      "Train on 412 samples, validate on 104 samples\n",
      "Epoch 1/20\n",
      "412/412 [==============================] - 79s 192ms/step - loss: 1741.7313 - val_loss: 1681.5364\n",
      "Epoch 2/20\n",
      "412/412 [==============================] - 65s 159ms/step - loss: 1038.0225 - val_loss: 988.1214\n",
      "Epoch 3/20\n",
      "412/412 [==============================] - 65s 159ms/step - loss: 829.9445 - val_loss: 1125.3546\n",
      "Epoch 4/20\n",
      "412/412 [==============================] - 66s 160ms/step - loss: 591.4027 - val_loss: 438.1211\n",
      "Epoch 5/20\n",
      "412/412 [==============================] - 63s 153ms/step - loss: 327.8267 - val_loss: 350.0959\n",
      "Epoch 6/20\n",
      "412/412 [==============================] - 62s 151ms/step - loss: 252.7391 - val_loss: 219.2149\n",
      "Epoch 7/20\n",
      "412/412 [==============================] - 61s 149ms/step - loss: 206.2589 - val_loss: 194.3363\n",
      "Epoch 8/20\n",
      "412/412 [==============================] - 62s 150ms/step - loss: 210.0951 - val_loss: 183.8748\n",
      "Epoch 9/20\n",
      "412/412 [==============================] - 62s 151ms/step - loss: 188.6659 - val_loss: 190.6167\n",
      "Epoch 10/20\n",
      "412/412 [==============================] - 2595s 6s/step - loss: 174.2667 - val_loss: 172.3162\n",
      "Epoch 11/20\n",
      "412/412 [==============================] - 5781s 14s/step - loss: 153.0138 - val_loss: 186.5211\n",
      "Epoch 12/20\n",
      "412/412 [==============================] - 71s 172ms/step - loss: 148.5900 - val_loss: 168.3614\n",
      "Epoch 13/20\n",
      "412/412 [==============================] - 69s 168ms/step - loss: 145.0574 - val_loss: 176.2218\n",
      "Epoch 14/20\n",
      "412/412 [==============================] - 65s 158ms/step - loss: 134.9829 - val_loss: 166.5366\n",
      "Epoch 15/20\n",
      "412/412 [==============================] - 63s 152ms/step - loss: 133.5922 - val_loss: 179.0269\n",
      "Epoch 16/20\n",
      "412/412 [==============================] - 64s 156ms/step - loss: 128.9733 - val_loss: 164.1395\n",
      "Epoch 17/20\n",
      "412/412 [==============================] - 62s 151ms/step - loss: 128.5448 - val_loss: 170.8866\n",
      "Epoch 18/20\n",
      "412/412 [==============================] - 62s 150ms/step - loss: 121.3410 - val_loss: 166.4859\n",
      "Epoch 19/20\n",
      "412/412 [==============================] - 62s 151ms/step - loss: 117.4345 - val_loss: 160.7411\n",
      "Epoch 20/20\n",
      "412/412 [==============================] - 62s 152ms/step - loss: 113.8320 - val_loss: 171.4417\n"
     ]
    },
    {
     "data": {
      "text/plain": [
       "<keras.callbacks.History at 0x1a1a2344e0>"
      ]
     },
     "execution_count": 20,
     "metadata": {},
     "output_type": "execute_result"
    }
   ],
   "source": [
    "model.fit(X_train, y_train, \n",
    "          batch_size=128,\n",
    "          epochs=20, \n",
    "          callbacks=[early_stop], \n",
    "          validation_data =(X_test, y_test),\n",
    "          verbose=1)"
   ]
  },
  {
   "cell_type": "code",
   "execution_count": 23,
   "metadata": {},
   "outputs": [
    {
     "data": {
      "text/plain": [
       "<matplotlib.axes._subplots.AxesSubplot at 0x1a1b171da0>"
      ]
     },
     "execution_count": 23,
     "metadata": {},
     "output_type": "execute_result"
    },
    {
     "data": {
      "image/png": "[encoded data removed]",
      "text/plain": [
       "<matplotlib.figure.Figure at 0x1a1b36dd68>"
      ]
     },
     "metadata": {},
     "output_type": "display_data"
    }
   ],
   "source": [
    "sns.regplot(model.predict(X_test), y_test,fit_reg=False)\n",
    "#sns.plt.show()"
   ]
  },
  {
   "cell_type": "code",
   "execution_count": null,
   "metadata": {},
   "outputs": [],
   "source": []
  }
 ],
 "metadata": {
  "kernelspec": {
   "display_name": "Python [conda env:NN]",
   "language": "python",
   "name": "conda-env-NN-py"
  },
  "language_info": {
   "codemirror_mode": {
    "name": "ipython",
    "version": 3
   },
   "file_extension": ".py",
   "mimetype": "text/x-python",
   "name": "python",
   "nbconvert_exporter": "python",
   "pygments_lexer": "ipython3",
   "version": "3.6.4"
  }
 },
 "nbformat": 4,
 "nbformat_minor": 2
}
